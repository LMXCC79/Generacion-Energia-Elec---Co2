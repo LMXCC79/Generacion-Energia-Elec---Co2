{
 "cells": [
  {
   "cell_type": "markdown",
   "metadata": {},
   "source": [
    "## MEMORIA"
   ]
  },
  {
   "cell_type": "markdown",
   "metadata": {},
   "source": [
    "#### \n",
    "* LUIS MANUEL CHAVARRO \n",
    "* NOMBRE PROYECTO: EDA - GENERACION DE ENERGIA ELECTRICA Y EMISIONES DE CO2\n"
   ]
  },
  {
   "cell_type": "markdown",
   "metadata": {},
   "source": [
    "## RESUMEN"
   ]
  },
  {
   "cell_type": "markdown",
   "metadata": {},
   "source": [
    "Este trabajo pretende demostrar la reduccion de las emisiones de CO2 a la atmosfera, producto de la generacion de energia electrica, debido\n",
    "a la implementacion de plantas nucleares de generacion electrica."
   ]
  },
  {
   "cell_type": "markdown",
   "metadata": {},
   "source": [
    "### ADQUISICION DE LOS DATOS"
   ]
  },
  {
   "cell_type": "markdown",
   "metadata": {},
   "source": [
    "Los datos utilizados para este trabajo se descargaron de la pagina web de  [Kaggle.com](https://www.kaggle.com/). Los dataset que se manipularon fueron los siguientes:\n",
    "\n",
    "1. Energy data 1990 - 2020.csv\n",
    "2. share-elec-produc-by-source.csv\n",
    "\n",
    "Con estos dos archivos pretendemos conocer cual es el consumo de energia electrica global desde cada una de las fuentes que la producen, asi como su respectivo porcentaje aportado a la oferta de energia en un pais.\n",
    "Se espera poder hacer la comparativa a travez de los años, teniendo muy en cuenta el aporte de la energia nuclear en los paises donde se genera, para asi poder observar graficamente si en las fechas en que se inicia la operacion de estas plantas de generacion, se genera tambien una variacion en las emisiones de CO2."
   ]
  },
  {
   "cell_type": "markdown",
   "metadata": {},
   "source": [
    "### PROCESO"
   ]
  },
  {
   "cell_type": "markdown",
   "metadata": {},
   "source": [
    "Con python como herramienta tecnologica principal, se procedio con la lectura y procesamiento de la informacion.:\n",
    "\n",
    "1. Lectura de los archivos .csv\n",
    "2. Se realiza la limpieza de los datos de cada uno de los datasets\n",
    "3. se pretende realizar la union de los archivos con el objetivo de generar un unico dataset que nos facilite su analisis\n",
    "4. Desarrollar los analisis de la hipotesis planteada\n"
   ]
  },
  {
   "cell_type": "markdown",
   "metadata": {},
   "source": [
    "#### Obstaculos"
   ]
  },
  {
   "cell_type": "markdown",
   "metadata": {},
   "source": [
    "Una vez se tenian los dataframes limpios y sus datos faltantes imputados, se procedio con la union de estos, lo que generó unnuevo dataframe que no pude procesar. Cada uno de los archivos tenia un numero de registros de df = (1364, 17) y df1 = (6190, 10) pero al momento de unirlos, el numero de registros del nuevo df se multiplico quedando en df_merg = (48360, 26), a lo que no supe darle respuesta ni solucion. "
   ]
  }
 ],
 "metadata": {
  "language_info": {
   "name": "python"
  }
 },
 "nbformat": 4,
 "nbformat_minor": 2
}
